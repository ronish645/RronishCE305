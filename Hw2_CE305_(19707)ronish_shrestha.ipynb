{
  "nbformat": 4,
  "nbformat_minor": 0,
  "metadata": {
    "colab": {
      "provenance": [],
      "authorship_tag": "ABX9TyMjTYMlIxtKrbPL6RlJOqvG",
      "include_colab_link": true
    },
    "kernelspec": {
      "name": "python3",
      "display_name": "Python 3"
    },
    "language_info": {
      "name": "python"
    }
  },
  "cells": [
    {
      "cell_type": "markdown",
      "metadata": {
        "id": "view-in-github",
        "colab_type": "text"
      },
      "source": [
        "<a href=\"https://colab.research.google.com/github/ronish645/RronishCE305/blob/main/Hw2_CE305_(19707)ronish_shrestha.ipynb\" target=\"_parent\"><img src=\"https://colab.research.google.com/assets/colab-badge.svg\" alt=\"Open In Colab\"/></a>"
      ]
    },
    {
      "cell_type": "code",
      "execution_count": 6,
      "metadata": {
        "colab": {
          "base_uri": "https://localhost:8080/"
        },
        "id": "cD2FJOPyeIZP",
        "outputId": "dbe721ed-6179-49eb-c2d6-cf617b7dee27"
      },
      "outputs": [
        {
          "output_type": "stream",
          "name": "stdout",
          "text": [
            "Encoded Output 1: 1010 00111\n",
            "Encoded Output 2: 1100 11001\n",
            "Decoding Result 1: No error\n",
            "Decoding Result 2: Error\n",
            "Decoding Result 3: No error\n",
            "Decoding Result 4: Error\n"
          ]
        }
      ],
      "source": [
        "def encoding(msg, poly):\n",
        "    # Pad message with zeros to match the length of the polynomial\n",
        "    msg += '0' * (len(poly) - 1)\n",
        "\n",
        "    # Convert strings to lists for easier manipulation\n",
        "    msg = list(msg)\n",
        "    poly = list(poly)\n",
        "\n",
        "    # Perform CRC division\n",
        "    for i in range(len(msg) - len(poly) + 1):\n",
        "        if msg[i] == '1':\n",
        "            for j in range(len(poly)):\n",
        "                msg[i + j] = str(int(msg[i + j]) ^ int(poly[j]))\n",
        "\n",
        "    # Return the encoded message\n",
        "    return ''.join(msg), ''.join(msg[-(len(poly)-1):])\n",
        "\n",
        "\n",
        "def decoding(rcv, poly):\n",
        "    # Convert strings to lists for easier manipulation\n",
        "    rcv = list(rcv)\n",
        "    poly = list(poly)\n",
        "\n",
        "    # Perform CRC division\n",
        "    for i in range(len(rcv) - len(poly) + 1):\n",
        "        if rcv[i] == '1':\n",
        "            for j in range(len(poly)):\n",
        "                rcv[i + j] = str(int(rcv[i + j]) ^ int(poly[j]))\n",
        "\n",
        "    # Check if remainder is all zeros\n",
        "    if ''.join(rcv[-(len(poly)-1):]) == '0' * (len(poly) - 1):\n",
        "        return 'No error'\n",
        "    else:\n",
        "        return 'Error'\n",
        "\n",
        "\n",
        "# Test Cases for Encoding and Decoding\n",
        "org_sig1 = '1010'  # original binary data\n",
        "poly = '100101'  # 𝑥5 + 𝑥2 +1 => b5b4b3b2b1b0 = 100101\n",
        "encoded_msg1, crc1 = encoding(org_sig1, poly)\n",
        "print(f\"Encoded Output 1: {org_sig1} {crc1}\")\n",
        "\n",
        "org_sig2 = '1100'  # original binary data\n",
        "encoded_msg2, crc2 = encoding(org_sig2, poly)\n",
        "print(f\"Encoded Output 2: {org_sig2} {crc2}\")\n",
        "\n",
        "received_sig1 = '1010 00111'  # if receiving the data without error\n",
        "result1 = decoding(received_sig1.replace(\" \", \"\"), poly)\n",
        "print(f\"Decoding Result 1: {result1}\")\n",
        "\n",
        "received_sig2 = '1010 01111'  # if receiving the data with 1-bit error\n",
        "result2 = decoding(received_sig2.replace(\" \", \"\"), poly)\n",
        "print(f\"Decoding Result 2: {result2}\")\n",
        "\n",
        "received_sig3 = '1100 11001'  # if receiving the data without error\n",
        "result3 = decoding(received_sig3.replace(\" \", \"\"), poly)\n",
        "print(f\"Decoding Result 3: {result3}\")\n",
        "\n",
        "received_sig4 = '1100 11111'  # if receiving the data with 2-bits error\n",
        "result4 = decoding(received_sig4.replace(\" \", \"\"), poly)\n",
        "print(f\"Decoding Result 4: {result4}\")\n"
      ]
    },
    {
      "cell_type": "code",
      "source": [
        "def HamEncoding(msg):\n",
        "    k = 1\n",
        "    while 2**k - k - 1 < len(msg):\n",
        "        k += 1\n",
        "\n",
        "    encoded_msg = ['0'] * (len(msg) + k)\n",
        "    j = 0\n",
        "\n",
        "    for i in range(1, len(encoded_msg) + 1):\n",
        "        if i & (i - 1) == 0:\n",
        "            continue\n",
        "        else:\n",
        "            encoded_msg[i - 1] = msg[j]\n",
        "            j += 1\n",
        "\n",
        "    for i in range(k):\n",
        "        mask = 2**i\n",
        "        count = 0\n",
        "\n",
        "        for j in range(1, len(encoded_msg) + 1):\n",
        "            if j & mask:\n",
        "                if encoded_msg[j - 1] == '1':\n",
        "                    count += 1\n",
        "\n",
        "        if count % 2 == 0:\n",
        "            encoded_msg[mask - 1] = '0'\n",
        "        else:\n",
        "            encoded_msg[mask - 1] = '1'\n",
        "\n",
        "    return ''.join(encoded_msg)\n",
        "\n",
        "\n",
        "def HamDecoding(rcv, k):\n",
        "    received_msg = list(rcv)\n",
        "    error_position = 0\n",
        "\n",
        "    for i in range(k):\n",
        "        mask = 2**i\n",
        "        count = 0\n",
        "\n",
        "        for j in range(1, len(received_msg) + 1):\n",
        "            if j & mask:\n",
        "                if received_msg[j - 1] == '1':\n",
        "                    count += 1\n",
        "\n",
        "        if count % 2 != 0:\n",
        "            error_position += mask\n",
        "\n",
        "    if error_position == 0:\n",
        "        return 'No error'\n",
        "    else:\n",
        "        if received_msg[error_position - 1] == '0':\n",
        "            received_msg[error_position - 1] = '1'\n",
        "        else:\n",
        "            received_msg[error_position - 1] = '0'\n",
        "\n",
        "        return f'Error at Position {error_position}, and correct data: {\"\".join(received_msg)}'\n",
        "\n",
        "\n",
        "# Test Cases for Encoding and Decoding\n",
        "org_sig1 = '1101'  # original binary data\n",
        "encoded_msg1 = HamEncoding(org_sig1)          #k=3\n",
        "print(f\"Encoded Output 1: {encoded_msg1}\")\n",
        "\n",
        "org_sig2 = '1001011'  # original binary data\n",
        "encoded_msg2 = HamEncoding(org_sig2)                 #k=4\n",
        "print(f\"Encoded Output 2: {encoded_msg2}\")\n",
        "\n",
        "received_sig1 = '1010101'  # if receiving the data without error\n",
        "result1 = HamDecoding(received_sig1, 3)            #k=3\n",
        "print(f\"Decoding Result 1: {result1}\")\n",
        "\n",
        "received_sig2 = '1010001'  # if receiving the data with 1-bit error at Position 5\n",
        "result2 = HamDecoding(received_sig2, 3)\n",
        "print(f\"Decoding Result 2: {result2}\")\n",
        "\n",
        "received_sig3 = '10110010011'  # if receiving the data without error\n",
        "result3 = HamDecoding(received_sig3, 4)\n",
        "print(f\"Decoding Result 3: {result3}\")\n",
        "\n",
        "received_sig4 = '10110000011'  # if receiving the data 1-bit error at Position 7\n",
        "result4 = HamDecoding(received_sig4, 4)             #k=4\n",
        "print(f\"Decoding Result 4: {result4}\")\n"
      ],
      "metadata": {
        "id": "kmB9MLW4e3fO",
        "colab": {
          "base_uri": "https://localhost:8080/"
        },
        "outputId": "58a888e0-cb54-43d9-d4b5-30c66a74dfdc"
      },
      "execution_count": 7,
      "outputs": [
        {
          "output_type": "stream",
          "name": "stdout",
          "text": [
            "Encoded Output 1: 1010101\n",
            "Encoded Output 2: 10110010011\n",
            "Decoding Result 1: No error\n",
            "Decoding Result 2: Error at Position 5, and correct data: 1010101\n",
            "Decoding Result 3: No error\n",
            "Decoding Result 4: Error at Position 7, and correct data: 10110010011\n"
          ]
        }
      ]
    }
  ]
}