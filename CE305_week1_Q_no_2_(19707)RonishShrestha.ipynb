{
  "nbformat": 4,
  "nbformat_minor": 0,
  "metadata": {
    "colab": {
      "provenance": [],
      "authorship_tag": "ABX9TyNVv2rvvZwYvzKo91BQqJ5v",
      "include_colab_link": true
    },
    "kernelspec": {
      "name": "python3",
      "display_name": "Python 3"
    },
    "language_info": {
      "name": "python"
    }
  },
  "cells": [
    {
      "cell_type": "markdown",
      "metadata": {
        "id": "view-in-github",
        "colab_type": "text"
      },
      "source": [
        "<a href=\"https://colab.research.google.com/github/ronish645/RronishCE305/blob/main/CE305_week1_Q_no_2_(19707)RonishShrestha.ipynb\" target=\"_parent\"><img src=\"https://colab.research.google.com/assets/colab-badge.svg\" alt=\"Open In Colab\"/></a>"
      ]
    },
    {
      "cell_type": "code",
      "execution_count": 4,
      "metadata": {
        "colab": {
          "base_uri": "https://localhost:8080/"
        },
        "id": "btP2vw232ygW",
        "outputId": "bc8f7ac4-6c71-479b-d477-9af525d5997b"
      },
      "outputs": [
        {
          "output_type": "stream",
          "name": "stdout",
          "text": [
            "Enter floating Number: 26.625\n",
            "Enter the number of decimal places of the result: 14\n",
            "11010.10100000000000\n"
          ]
        }
      ],
      "source": [
        "import math\n",
        "\n",
        "# Define a function that converts a floating-point number to binary representation\n",
        "def float_bin(number, places=3):\n",
        "    # Split the number into whole and decimal parts\n",
        "    wholenumber, decimalnumber = str(number).split(\".\")\n",
        "    wholenumber = int(wholenumber)\n",
        "\n",
        "    # Convert the decimal part to a float between 0 and 1\n",
        "    decimalnumber = float(\"0.\" + decimalnumber)\n",
        "\n",
        "    # Initialize the result string with the binary representation of the whole part\n",
        "    res = bin(wholenumber).lstrip(\"0b\") + \".\"\n",
        "\n",
        "    # Iterate to calculate the binary representation of the decimal part\n",
        "    for _ in range(places):\n",
        "        # Multiply the decimal part by 2\n",
        "        decimalnumber *= 2\n",
        "\n",
        "        # Split the result into whole and decimal parts\n",
        "        whole, dec = str(decimalnumber).split(\".\")\n",
        "\n",
        "        # Add the whole part to the result string\n",
        "        res += whole\n",
        "\n",
        "        # Update the decimal part for the next iteration\n",
        "        decimalnumber -= int(whole)\n",
        "\n",
        "    return res\n",
        "\n",
        "# Take user input for the floating-point number and desired decimal places\n",
        "n = float(input(\"Enter floating Number: \"))\n",
        "p = int(input(\"Enter the number of decimal places of the result: \"))\n",
        "\n",
        "# Call the function and print the result\n",
        "print(float_bin(n, places=p))\n"
      ]
    }
  ]
}